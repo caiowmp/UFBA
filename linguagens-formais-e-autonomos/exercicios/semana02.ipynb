{
  "nbformat": 4,
  "nbformat_minor": 0,
  "metadata": {
    "colab": {
      "name": "Cópia de P02 - MATA50-Semana02",
      "provenance": [],
      "collapsed_sections": [],
      "include_colab_link": true
    },
    "kernelspec": {
      "name": "python3",
      "display_name": "Python 3"
    },
    "language_info": {
      "name": "python"
    }
  },
  "cells": [
    {
      "cell_type": "markdown",
      "metadata": {
        "id": "view-in-github",
        "colab_type": "text"
      },
      "source": [
        "<a href=\"https://colab.research.google.com/github/caiowmp/UFBA/blob/master/C%C3%B3pia_de_P02_MATA50_Semana02.ipynb\" target=\"_parent\"><img src=\"https://colab.research.google.com/assets/colab-badge.svg\" alt=\"Open In Colab\"/></a>"
      ]
    },
    {
      "cell_type": "markdown",
      "metadata": {
        "id": "UDIB4qHrmpy1"
      },
      "source": [
        "# Exercícios\n",
        "\n",
        "## Sejam os conjuntos $A = \\{n \\in \\mathbb{N} \\mid n \\leq 8\\}$ e $B = \\{ n \\in \\mathbb{Z} \\mid -5 \\leq n \\leq 5\\}$. Liste os elementos dos seguintes conjuntos:"
      ]
    },
    {
      "cell_type": "markdown",
      "metadata": {
        "id": "Cq1DYG6SWcrU"
      },
      "source": [
        "a) $E = A \\cap B$"
      ]
    },
    {
      "cell_type": "code",
      "source": [
        "A = set([0,1,2,3,4,5,6,7,8])\n",
        "B = set([-5,-4,-3,-2,-1,0,1,2,3,4,5])\n",
        "\n",
        "E = A.intersection(B)\n",
        "\n",
        "print(E)"
      ],
      "metadata": {
        "colab": {
          "base_uri": "https://localhost:8080/"
        },
        "id": "-OIXEg_o0RRb",
        "outputId": "f67c4fd5-b195-4c27-b1db-fffcedf707ad"
      },
      "execution_count": null,
      "outputs": [
        {
          "output_type": "stream",
          "name": "stdout",
          "text": [
            "{0, 1, 2, 3, 4, 5}\n"
          ]
        }
      ]
    },
    {
      "cell_type": "markdown",
      "metadata": {
        "id": "_k2RC8neWdB8"
      },
      "source": [
        "b) $C = \\{ n \\in A \\cup B \\mid n = 2\\cdot k$ para $k \\in \\mathbb{Z}\\}$"
      ]
    },
    {
      "cell_type": "code",
      "source": [
        "U = A.union(B)\n",
        "C = set()\n",
        "\n",
        "for i in U:\n",
        "  if i % 2 == 0:\n",
        "    C.add(i)\n",
        "\n",
        "print(C)"
      ],
      "metadata": {
        "colab": {
          "base_uri": "https://localhost:8080/"
        },
        "id": "GEjq7KgH1dAj",
        "outputId": "0e5084b9-b532-4069-fd41-5265fa9aa01c"
      },
      "execution_count": null,
      "outputs": [
        {
          "output_type": "stream",
          "name": "stdout",
          "text": [
            "{0, 2, 4, 6, 8, -4, -2}\n"
          ]
        }
      ]
    },
    {
      "cell_type": "markdown",
      "metadata": {
        "id": "pHx0BKntWcWo"
      },
      "source": [
        "c) $D = (A-B) \\cup (B-A)$"
      ]
    },
    {
      "cell_type": "code",
      "source": [
        "Da = set()\n",
        "Db = set()\n",
        "Da = A.difference(B)\n",
        "Db = B.difference(A)\n",
        "\n",
        "D = Da.union(Db)\n",
        "\n",
        "print(D)"
      ],
      "metadata": {
        "colab": {
          "base_uri": "https://localhost:8080/"
        },
        "id": "pQBPdhig3bpZ",
        "outputId": "a8121c30-c857-446a-d8e9-ae0355577042"
      },
      "execution_count": null,
      "outputs": [
        {
          "output_type": "stream",
          "name": "stdout",
          "text": [
            "{6, 7, 8, -1, -5, -4, -3, -2}\n"
          ]
        }
      ]
    },
    {
      "cell_type": "markdown",
      "metadata": {
        "id": "9cA2D5I2Wnt4"
      },
      "source": [
        "d) $[(A\\cap C)-(A\\cap D)]\\times [(A\\cap D)-(A\\cap C)]$, onde $\\times$ representa o produto cartesiano."
      ]
    },
    {
      "cell_type": "code",
      "source": [
        "import itertools\n",
        "\n",
        "X = set()\n",
        "Y = set()\n",
        "\n",
        "X = ((A.intersection(C)).difference(A.intersection(D)))\n",
        "Y = ((A.intersection(D)).difference(A.intersection(C)))\n",
        "R = itertools.product(X,Y)\n",
        "\n",
        "print(list(R))"
      ],
      "metadata": {
        "id": "lKDsZQT44WYB"
      },
      "execution_count": null,
      "outputs": []
    },
    {
      "cell_type": "markdown",
      "metadata": {
        "id": "958a0jaqW8uY"
      },
      "source": [
        "## Para cada uma das igualdades abaixo, utilize um pequeno código em Python e verifique que seja válida para $n \\leq 100$ e prove por indução sua validade para qualquer $n$:"
      ]
    },
    {
      "cell_type": "markdown",
      "metadata": {
        "id": "ILweyaCKXWSR"
      },
      "source": [
        "a) $$ \\sum_{i=0}^n i = \\frac{n(n+1)}{2}$$"
      ]
    },
    {
      "cell_type": "markdown",
      "source": [
        "Vamos provar que:\n",
        "\n",
        "$$ \\sum_{i=1}^n i = \\frac{n(n+1)}{2}$$\n",
        "\n",
        "Caso base (n = 1):\n",
        "\n",
        "$$ \\sum_{i=1}^1 i = \\frac{n(n+1)}{2}$$\n",
        "$$ \\frac{1(1+1)}{2} = \\frac{2}{2} = 1$$\n",
        "\n",
        "Provando com o código abaixo que a expressão é valida para todo i <= n (100), verificaremos se a expressão é válida também para n+1.\n",
        "\n",
        "$$ \\sum_{i=0}^{n+1} i = \\sum_{i=0}^{n} i + {n+1} = \\frac{n(n+1)}{2} + n + 1$$\n",
        "$$= \\frac{n(n+1)}{2} + \\frac{2(n+1)}{2} = \\frac{n²+n+2n+2}{2}$$\n",
        "$$= \\frac{(n+1)(n+2)}{2}$$\n",
        "\n",
        "Logo, a expressão também é valida para n+1."
      ],
      "metadata": {
        "id": "e6rtWNpR_cFt"
      }
    },
    {
      "cell_type": "code",
      "source": [
        "def funcao1(n):\n",
        "  return n*(n+1)/2\n",
        "\n",
        "sum = 0\n",
        "\n",
        "for i in range(101):\n",
        "  sum += i\n",
        "  \n",
        "  if sum != funcao1(i):\n",
        "    print(\"mentira\")"
      ],
      "metadata": {
        "id": "aSr_V8KG7bWT"
      },
      "execution_count": null,
      "outputs": []
    },
    {
      "cell_type": "markdown",
      "metadata": {
        "id": "u6-91VGrdpTT"
      },
      "source": [
        "b) $$ \\sum_{i=0}^n i^3 = \\big( \\sum_{i=0}^n i \\big)^2 $$"
      ]
    },
    {
      "cell_type": "markdown",
      "source": [
        "Vamos provar que:\n",
        "\n",
        "$$ \\sum_{i=0}^n i^3 = \\big( \\sum_{i=0}^n i \\big)^2 $$\n",
        "\n",
        "Sabemos da questão anterior que:\n",
        "\n",
        "$$ \\sum_{i=0}^n i = \\frac{n(n+1)}{2}$$\n",
        "\n",
        "Então, vamos provar que:\n",
        "\n",
        "$$ \\sum_{i=0}^n i^3 = \\big(\\frac{n(n+1)}{2}\\big)^2$$\n",
        "\n",
        "Caso base (n = 1):\n",
        "\n",
        "$$ \\sum_{i=1}^1 i^3 = \\big(\\frac{1(1+1)}{2}\\big)^3 = (2/2)^3 = 1 = (2/2)^2 = \\big(\\frac{1(1+1)}{2}\\big)^2 = \\big( \\sum_{i=1}^1 i \\big)^2$$\n",
        "\n",
        "Provando com o código abaixo que a expressão é valida para todo i <= n (100), verificaremos se a expressão é válida também para n+1.\n",
        "\n",
        "$$ \\sum_{i=1}^{n+1} i^3 = \\big(\\frac{n(n+1)}{2} + n + 1\\big)^3 = \\big (\\frac{(n+1)(n+2)}{2}\\big)^3 =$$\n",
        "$$= \\frac{(n^3+3n^2+3n+1)(n^3+6n^2+12n+8)}{8} = \\frac{n²+n+2n+2}{2}$$\n",
        "\n",
        "\n",
        "Logo, a expressão também é valida para n+1."
      ],
      "metadata": {
        "id": "68XPJAwuDxBV"
      }
    },
    {
      "cell_type": "code",
      "source": [
        "def funcao2(n):\n",
        "  return funcao1(n)**2\n",
        "\n",
        "sum = 0\n",
        "\n",
        "for i in range(101):\n",
        "  sum += i**3\n",
        "  \n",
        "  if sum != funcao2(i):\n",
        "    print(\"mentira\")"
      ],
      "metadata": {
        "id": "-8vaksAV7b5s"
      },
      "execution_count": null,
      "outputs": []
    },
    {
      "cell_type": "markdown",
      "source": [
        "## Escreva um programa recursivo para obter o resultado da multiplicação de números sobre o conjunto dos naturais. Dica: $a \\times b = a+a+...+a (b$ vezes)."
      ],
      "metadata": {
        "id": "M0tzuwFdDUmK"
      }
    },
    {
      "cell_type": "code",
      "source": [
        "# Dica a*b = a+a+...+a (b vezes)\n",
        "\n",
        "''' Como a multiplicação é no conjunto dos números naturais, não é necessário\n",
        "verificar se b é menor que zero '''\n",
        "def mult(a,b):\n",
        "  if b == 0:\n",
        "    return 0\n",
        "  else:\n",
        "    return a + mult(a,b-1)\n",
        "\n",
        "print(mult(4,2))"
      ],
      "metadata": {
        "id": "588JqypFDpbf",
        "colab": {
          "base_uri": "https://localhost:8080/"
        },
        "outputId": "b011a68a-13e4-4c10-a02c-5c63e3c3a63b"
      },
      "execution_count": 41,
      "outputs": [
        {
          "output_type": "stream",
          "name": "stdout",
          "text": [
            "8\n"
          ]
        }
      ]
    },
    {
      "cell_type": "markdown",
      "source": [
        "## Escreva um programa recursivo para obter o resultado da função $f:\\mathbb{N} \\rightarrow \\mathbb{N}$ em que $f(n) = \\sum_{k=1}^n k$\n"
      ],
      "metadata": {
        "id": "x0x8UCygDb4F"
      }
    },
    {
      "cell_type": "code",
      "source": [
        "def f(n):\n",
        "  if n == 1:\n",
        "    return 1\n",
        "  else:\n",
        "\n",
        "    return n + f(n-1)\n",
        "\n",
        "n = 4\n",
        "print(f(n))"
      ],
      "metadata": {
        "id": "gQSpyRV8Dnhm",
        "colab": {
          "base_uri": "https://localhost:8080/"
        },
        "outputId": "9941768c-0306-40ee-d103-76fb92d902e7"
      },
      "execution_count": 39,
      "outputs": [
        {
          "output_type": "stream",
          "name": "stdout",
          "text": [
            "10\n"
          ]
        }
      ]
    }
  ]
}